{
 "cells": [
  {
   "cell_type": "code",
   "execution_count": 1,
   "metadata": {
    "collapsed": true
   },
   "outputs": [],
   "source": [
    "import json\n",
    "from dateutil.parser import parse\n",
    "from datetime import timedelta\n",
    "import requests\n",
    "import math\n",
    "import unicodecsv as csv\n",
    "import numpy"
   ]
  },
  {
   "cell_type": "code",
   "execution_count": 2,
   "metadata": {},
   "outputs": [
    {
     "data": {
      "text/plain": [
       "'\\n* house: whether or not the legislator is a member of the House of Representatives at the time of the statement. 1 indicates they are a member of the House, 0 indicates they are a member of the Senate. Blank values indicate that the data is either not known or that they are a member of neither (speaker, etc).\\n* sex: the sex of the legislator, according to the United States legislator biography project.\\n* last_name: the last name of the legislator who made the statement.\\n* dim_1: the 1st dimension DW-NOMINATE constant space score for the legislator.\\n* dim_2: the 2nd dimension DW-NOMINATE constant space score for the legislator.\\n* id: the ID of the statement (calculated by finding the MD5 hash of the date, text, document title, and speaker last name appended to one another, see `annotate.py` for implementation).\\n* first_name: the first name of the legislator.\\n* icpsr: the ICPSR legislator code.\\n* state: the first seven letters of the legislator\\xe2\\x80\\x99s state.\\n* statement: the raw text of the statement, as recorded in the Congressional Record.\\n* party: the legislator\\xe2\\x80\\x99s party. 1 indicates Democrats, 0 indicates Republicans.\\n* congress: the Congress that the statement was made in.\\n* days_until_term_ends: the number of days until the legislator is up for reelection.\\n* loyalty: whether the legislator\\xe2\\x80\\x99s party is the same as the President. 1 if true, 0 otherwise.\\n* date: the date the statement was made.\\n* state_code: the ICPSR state code.\\n* votes: the number of votes considered in the DW-NOMINATE score of the legislator\\n* periphery: the standard deviations from the party norm, where positive values indicate more partisan tendencies and negative values indicate more moderate tendencies\\n* unsigned_periphery: the unsigned (absolute value) periphery score\\n* seniority: the number of congresses the legislator has served in, including the current congress, at the time of the statement\\n'"
      ]
     },
     "execution_count": 2,
     "metadata": {},
     "output_type": "execute_result"
    }
   ],
   "source": [
    "\"\"\"\n",
    "* house: whether or not the legislator is a member of the House of Representatives at the time of the statement. 1 indicates they are a member of the House, 0 indicates they are a member of the Senate. Blank values indicate that the data is either not known or that they are a member of neither (speaker, etc).\n",
    "* sex: the sex of the legislator, according to the United States legislator biography project.\n",
    "* last_name: the last name of the legislator who made the statement.\n",
    "* dim_1: the 1st dimension DW-NOMINATE constant space score for the legislator.\n",
    "* dim_2: the 2nd dimension DW-NOMINATE constant space score for the legislator.\n",
    "* id: the ID of the statement (calculated by finding the MD5 hash of the date, text, document title, and speaker last name appended to one another, see `annotate.py` for implementation).\n",
    "* first_name: the first name of the legislator.\n",
    "* icpsr: the ICPSR legislator code.\n",
    "* state: the first seven letters of the legislator’s state.\n",
    "* statement: the raw text of the statement, as recorded in the Congressional Record.\n",
    "* party: the legislator’s party. 1 indicates Democrats, 0 indicates Republicans.\n",
    "* congress: the Congress that the statement was made in.\n",
    "* days_until_term_ends: the number of days until the legislator is up for reelection.\n",
    "* loyalty: whether the legislator’s party is the same as the President. 1 if true, 0 otherwise.\n",
    "* date: the date the statement was made.\n",
    "* state_code: the ICPSR state code.\n",
    "* votes: the number of votes considered in the DW-NOMINATE score of the legislator\n",
    "* periphery: the standard deviations from the party norm, where positive values indicate more partisan tendencies and negative values indicate more moderate tendencies\n",
    "* unsigned_periphery: the unsigned (absolute value) periphery score\n",
    "* seniority: the number of congresses the legislator has served in, including the current congress, at the time of the statement\n",
    "\"\"\""
   ]
  },
  {
   "cell_type": "code",
   "execution_count": 3,
   "metadata": {
    "collapsed": true
   },
   "outputs": [],
   "source": [
    "def get_congress(time):\n",
    "    time = time - timedelta(days=3)\n",
    "    year = time.year\n",
    "    return int(math.ceil(0.5*year - 894))"
   ]
  },
  {
   "cell_type": "code",
   "execution_count": 4,
   "metadata": {},
   "outputs": [
    {
     "name": "stdout",
     "output_type": "stream",
     "text": [
      "1145\n"
     ]
    }
   ],
   "source": [
    "# ADD DW-NOMINATE TO THE DATASET\n",
    "\n",
    "def decode_dw_row(row):\n",
    "    # decodes row such as:\n",
    "    #  114   29774  71  24  CALIFOR    100  0  1   CAPPS         -0.389   -0.227      -81.84920   1077     26    0.927\n",
    "    # format: congress, icpsr, state code, district number (0 if senate or president), state name, party code (100=dem, 200=republican), occupancy, office attainment type, name, 1st dimension coord, 2nd dimension coord, log likelyhood, # of votes, # of classification errors, geometric mean probability\n",
    "    elements = [element.strip() for element in row.split(\"  \") if element.strip() != \"\"]\n",
    "    if len(elements) == 16:\n",
    "        del elements[9]\n",
    "    if len(elements) != 15:\n",
    "        print \"error: != 15 elements in a row! {}\".format(len(elements))\n",
    "        print row\n",
    "        raise Exception(\"!= 15 elements in row\")\n",
    "    return {\n",
    "        \"latest_congress\": elements[0],\n",
    "        \"icpsr\": elements[1],\n",
    "        \"state_code\": elements[2],\n",
    "        \"district_number\": elements[3],\n",
    "        \"state\": elements[4],\n",
    "        \"party_code\": int(elements[5]),\n",
    "        \"occupancy\": elements[6],\n",
    "        \"office_attainment_type\": elements[7],\n",
    "        \"last_name\": elements[8].split(\" \")[0],\n",
    "        \"dim_1\": float(elements[9]),\n",
    "        \"dim_2\": float(elements[10]),\n",
    "        \"log_likelyhood\": float(elements[11]),\n",
    "        \"votes\": int(elements[12]),\n",
    "        \"classification_errors\": float(elements[13]),\n",
    "        \"geometric_mean_probability\": float(elements[14])\n",
    "    }\n",
    "dw_nominate_scores = {}\n",
    "raw_legislators = []\n",
    "_already_included_legislators = []\n",
    "minimum_congress = 106\n",
    "terms = {}\n",
    "with open(\"/Users/miles/Source/combine-cr/data/DW-NOMINATE.txt\", \"r\") as dw:\n",
    "    for row in dw.readlines():\n",
    "        dat = decode_dw_row(row)\n",
    "        if int(dat['latest_congress']) < 106:\n",
    "            continue\n",
    "        party = \"\"\n",
    "        if dat['party_code'] == 100:\n",
    "            party = \"Democrat\"\n",
    "        if dat['party_code'] == 200:\n",
    "            party = \"Republican\"\n",
    "        dat[\"party\"] = party\n",
    "        name = dat['last_name'] + dat['state'] + str(dat['latest_congress'])\n",
    "        dw_nominate_scores[name.lower()] = dat\n",
    "        if dat['icpsr'] not in _already_included_legislators and dat['latest_congress'] >= minimum_congress:\n",
    "            raw_legislators.append(dat)\n",
    "            _already_included_legislators.append(dat['icpsr'])\n",
    "        \n",
    "        if dat['icpsr'] not in terms:\n",
    "            terms[dat['icpsr']] = []\n",
    "        if int(dat['latest_congress']) not in terms[dat['icpsr']]:\n",
    "            terms[dat['icpsr']].append(int(dat['latest_congress']))\n",
    "\n",
    "print len(raw_legislators)"
   ]
  },
  {
   "cell_type": "code",
   "execution_count": 5,
   "metadata": {},
   "outputs": [],
   "source": [
    "mentions = {}\n",
    "with open(\"/Users/miles/Permanent/ghraib.json\", \"r\") as datain:\n",
    "    for element in json.load(datain): # is array\n",
    "        party_code = None\n",
    "        if element['party'] == \"Republican\":\n",
    "            party_code = 200\n",
    "        elif element['party'] == \"Democrat\":\n",
    "            party_code = 100\n",
    "            \n",
    "        dim_1 = None\n",
    "        if element['dim_1'] is not None and element['dim_1'] != \"Unknown\":\n",
    "            dim_1 = float(element['dim_1'])\n",
    "    \n",
    "        dim_2 = None\n",
    "        if element['dim_2'] is not None and element['dim_2'] != \"Unknown\":\n",
    "            dim_2 = float(element['dim_2'])\n",
    "        \n",
    "        mentions[element['id']] = {\n",
    "            \"id\": element['id'],\n",
    "            \"date\": element['date'],\n",
    "            \"date_parsed\": parse(element['date']),\n",
    "            \"title\": element['title'],\n",
    "            \"first_name\": element['first_name'],\n",
    "            \"last_name\": element['last_name'],\n",
    "            \"party\": element['party'],\n",
    "            \"sex\": element['sex'],\n",
    "            \"state\": element['state'],\n",
    "            \"statement\": element['statement'],\n",
    "            \"congress\": get_congress(parse(element['date'])),\n",
    "            \"dim_1\": dim_1,\n",
    "            \"dim_2\": dim_2,\n",
    "            \"party_code\": party_code,\n",
    "        }"
   ]
  },
  {
   "cell_type": "code",
   "execution_count": 6,
   "metadata": {
    "collapsed": true
   },
   "outputs": [],
   "source": [
    "def get_seniority(time, legislator):\n",
    "    congress = get_congress(time)\n",
    "    terms_served = terms[legislator['icpsr']]\n",
    "    count = 0\n",
    "    for term in terms_served:\n",
    "        if term <= congress:\n",
    "            count += 1\n",
    "    return count"
   ]
  },
  {
   "cell_type": "code",
   "execution_count": 7,
   "metadata": {
    "collapsed": true
   },
   "outputs": [],
   "source": [
    "republican_std_dev = numpy.std([legislator[\"dim_1\"] for legislator in raw_legislators if legislator[\"party_code\"] == 200])\n",
    "democrat_std_dev = numpy.std([legislator[\"dim_1\"] for legislator in raw_legislators if legislator[\"party_code\"] == 100])\n",
    "\n",
    "republican_mean = numpy.mean([legislator[\"dim_1\"] for legislator in raw_legislators if legislator[\"party_code\"] == 200])\n",
    "democrat_mean = numpy.mean([legislator[\"dim_1\"] for legislator in raw_legislators if legislator[\"party_code\"] == 100])\n",
    "\n",
    "def periphery(legislator):\n",
    "    if legislator['dim_1'] is None or legislator['dim_2'] is None:\n",
    "        return None\n",
    "    \n",
    "    if \"party_code\" not in legislator:\n",
    "        return None # legislator not known\n",
    "    if legislator[\"party_code\"] not in [100, 200]:\n",
    "        print legislator[\"party_code\"]\n",
    "        return None\n",
    "    party_std_dev = None # not pythonic, not a problem\n",
    "    party_mean = None\n",
    "    opposite_mean = None\n",
    "    if legislator[\"party_code\"] is 200:\n",
    "        party_std_dev = republican_std_dev\n",
    "        party_mean = republican_mean\n",
    "        opposite_mean = democrat_mean\n",
    "    elif legislator[\"party_code\"] is 100:\n",
    "        party_std_dev = democrat_std_dev\n",
    "        party_mean = democrat_mean\n",
    "        opposite_mean = republican_mean\n",
    "    \n",
    "    score = abs(party_mean - legislator[\"dim_1\"]) / party_std_dev\n",
    "    \n",
    "    neg = (legislator[\"dim_1\"] < party_mean) == (opposite_mean < party_mean)\n",
    "    if neg:\n",
    "        score *= -1\n",
    "        \n",
    "    return score"
   ]
  },
  {
   "cell_type": "code",
   "execution_count": 8,
   "metadata": {},
   "outputs": [
    {
     "name": "stdout",
     "output_type": "stream",
     "text": [
      "Republican standard deviation: 0.160409314961\n",
      "Democrat standard deviation: 0.139125844637\n",
      "Republican mean 1st dimension score: 0.439763665595\n",
      "Democrat mean 1st dimension score: -0.336179190751\n"
     ]
    }
   ],
   "source": [
    "print \"Republican standard deviation: \" + str(republican_std_dev)\n",
    "print \"Democrat standard deviation: \" + str(democrat_std_dev)\n",
    "print \"Republican mean 1st dimension score: \" + str(republican_mean)\n",
    "print \"Democrat mean 1st dimension score: \" + str(democrat_mean)"
   ]
  },
  {
   "cell_type": "code",
   "execution_count": 9,
   "metadata": {
    "collapsed": true
   },
   "outputs": [],
   "source": [
    "from datetime import date\n",
    "def get_current_executive_party(statement_date):\n",
    "    if statement_date > date(2017,1,19):\n",
    "        return 0\n",
    "    if statement_date > date(2009,1,19):\n",
    "        return 1\n",
    "    if statement_date > date(2001, 1, 19):\n",
    "        return 0\n",
    "    return None"
   ]
  },
  {
   "cell_type": "code",
   "execution_count": 10,
   "metadata": {},
   "outputs": [
    {
     "name": "stdout",
     "output_type": "stream",
     "text": [
      "None\n",
      "None\n",
      "None\n",
      "None\n",
      "None\n",
      "None\n",
      "None\n",
      "None\n",
      "None\n"
     ]
    }
   ],
   "source": [
    "# normalize data that is not already normalized\n",
    "\n",
    "mentions_compiled = []\n",
    "for z in mentions.itervalues():\n",
    "    \n",
    "#     if z['id'] in addl_fields:\n",
    "#         z['days_until_term_ends'] = addl_fields[z['id']]['days_until_term_ends']\n",
    "\n",
    "    # party scores\n",
    "    try:\n",
    "        if z['party'] == \"Democrat\":\n",
    "            z['party'] = 1\n",
    "        elif z['party'] == \"Republican\":\n",
    "            z['party'] = 0\n",
    "        else:\n",
    "            z['party'] = None\n",
    "    except:\n",
    "        z['party'] = None\n",
    "        \n",
    "    # code sex into dataset (can't code gender, not binary, though neither is sex... oh well, STATA doesn't care...)\n",
    "    try:\n",
    "        if z['sex'] == \"M\":\n",
    "            z['sex'] = 1\n",
    "        elif z['sex'] == \"F\":\n",
    "            z['sex'] = 0\n",
    "        else:\n",
    "            z['sex'] = None\n",
    "    except:\n",
    "        z['sex'] = None\n",
    "        \n",
    "    # absolute value perphery\n",
    "    z['unsigned_periphery'] = None\n",
    "    if 'periphery' in z and z['periphery'] is not None:\n",
    "        z['unsigned_periphery'] = abs(z['periphery'])\n",
    "        \n",
    "    # loyalty\n",
    "    if 'date_parsed' in z and 'party' in z:\n",
    "        if z['party'] == get_current_executive_party(z['date_parsed'].date()):\n",
    "            z['loyalty'] = 1\n",
    "        else:\n",
    "            z['loyalty'] = 0\n",
    "    else:\n",
    "        z['loyalty'] = None\n",
    "            \n",
    "    # party periphery\n",
    "    z['periphery'] = periphery(z)\n",
    "        \n",
    "    # house — somewhat unreliable for legislators who have served in both\n",
    "    if 'dim_1' in z:\n",
    "        if 'district_number' in z and z['district_number'] is not None:\n",
    "            if int(z['district_number']) != 0:\n",
    "                z['house'] = 1 # house\n",
    "            else:\n",
    "                z['house'] = 0 # senate\n",
    "    else:\n",
    "        z['house'] = None\n",
    "    \n",
    "    if 'icpsr' in z and z['icpsr'] is not None:\n",
    "        z['seniority'] = get_seniority(z['date_parsed'], z)\n",
    "    \n",
    "    # delete unneded variables\n",
    "    try:\n",
    "        del z['date_parsed']\n",
    "        del z['classification_errors']\n",
    "        del z['party_code']\n",
    "        del z['district_number']\n",
    "        del z['occupancy']\n",
    "        del z['geometric_mean_probability']\n",
    "        del z['log_likelyhood']\n",
    "        del z['latest_congress']\n",
    "        del z['office_attainment_type']\n",
    "    except:\n",
    "        pass\n",
    "        \n",
    "    mentions_compiled.append(z)"
   ]
  },
  {
   "cell_type": "code",
   "execution_count": 11,
   "metadata": {},
   "outputs": [
    {
     "name": "stdout",
     "output_type": "stream",
     "text": [
      "['last_name', 'congress', 'loyalty', 'sex', 'party_code', 'date', 'dim_2', 'id', 'dim_1', 'first_name', 'title', 'state', 'periphery', 'statement', 'party', 'unsigned_periphery']\n"
     ]
    }
   ],
   "source": [
    "keys = []\n",
    "for z in mentions_compiled:\n",
    "    for key in z.iterkeys():\n",
    "        if key not in keys:\n",
    "            keys.append(key)\n",
    "print keys"
   ]
  },
  {
   "cell_type": "code",
   "execution_count": 12,
   "metadata": {},
   "outputs": [],
   "source": [
    "import unicodecsv as csv\n",
    "with open(\"data_combined.csv\", \"wb\") as outfile:\n",
    "    writer = csv.writer(outfile)\n",
    "    writer.writerow(keys)\n",
    "    for z in mentions_compiled:\n",
    "        row = []\n",
    "        for key in keys:\n",
    "            if key in z and z[key] != \"Unknown\":\n",
    "                row.append(z[key])\n",
    "            else:\n",
    "                row.append(None)\n",
    "        writer.writerow(row)"
   ]
  },
  {
   "cell_type": "code",
   "execution_count": null,
   "metadata": {
    "collapsed": true
   },
   "outputs": [],
   "source": []
  },
  {
   "cell_type": "code",
   "execution_count": null,
   "metadata": {
    "collapsed": true
   },
   "outputs": [],
   "source": []
  },
  {
   "cell_type": "code",
   "execution_count": null,
   "metadata": {
    "collapsed": true
   },
   "outputs": [],
   "source": []
  }
 ],
 "metadata": {
  "kernelspec": {
   "display_name": "Python 2",
   "language": "python",
   "name": "python2"
  },
  "language_info": {
   "codemirror_mode": {
    "name": "ipython",
    "version": 2
   },
   "file_extension": ".py",
   "mimetype": "text/x-python",
   "name": "python",
   "nbconvert_exporter": "python",
   "pygments_lexer": "ipython2",
   "version": "2.7.13"
  }
 },
 "nbformat": 4,
 "nbformat_minor": 2
}
